{
 "cells": [
  {
   "cell_type": "markdown",
   "id": "b7f0e90f",
   "metadata": {},
   "source": [
    "## Road Accident Severity Prediction using Linear Regression\n",
    "This notebook demonstrates how to use linear regression to predict accident severity based on multiple features."
   ]
  },
  {
   "cell_type": "code",
   "execution_count": null,
   "id": "c1961ef7",
   "metadata": {},
   "outputs": [],
   "source": [
    "import pandas as pd\n",
    "import numpy as np\n",
    "import matplotlib.pyplot as plt\n",
    "import seaborn as sns\n",
    "\n",
    "from sklearn.model_selection import train_test_split\n",
    "from sklearn.linear_model import LinearRegression\n",
    "from sklearn.metrics import mean_squared_error\n",
    "import joblib"
   ]
  },
  {
   "cell_type": "markdown",
   "id": "b10f7356",
   "metadata": {},
   "source": [
    "## Step 2: Upload and Load the Dataset\n",
    "Upload the `sample_road_accidents.csv` file."
   ]
  },
  {
   "cell_type": "code",
   "execution_count": null,
   "id": "446050ff",
   "metadata": {},
   "outputs": [],
   "source": [
    "from google.colab import files\n",
    "uploaded = files.upload()\n",
    "df = pd.read_csv(next(iter(uploaded)))\n",
    "df.head()"
   ]
  },
  {
   "cell_type": "markdown",
   "id": "3a9c46bc",
   "metadata": {},
   "source": [
    "## Step 3: Preprocess the Dataset\n",
    "Handle missing values and convert categorical variables to numeric format."
   ]
  },
  {
   "cell_type": "code",
   "execution_count": null,
   "id": "bab13d74",
   "metadata": {},
   "outputs": [],
   "source": [
    "df = df.dropna()\n",
    "df_encoded = pd.get_dummies(df, columns=['Weather', 'Surface', 'Light'], drop_first=True)\n",
    "X = df_encoded.drop('Accident_Severity', axis=1)\n",
    "y = df_encoded['Accident_Severity']"
   ]
  },
  {
   "cell_type": "markdown",
   "id": "8ad16b42",
   "metadata": {},
   "source": [
    "## Step 4: Split the Data"
   ]
  },
  {
   "cell_type": "code",
   "execution_count": null,
   "id": "8a28eb79",
   "metadata": {},
   "outputs": [],
   "source": [
    "X_train, X_test, y_train, y_test = train_test_split(X, y, test_size=0.2, random_state=42)"
   ]
  },
  {
   "cell_type": "markdown",
   "id": "2f63a85e",
   "metadata": {},
   "source": [
    "## Step 5: Train the Linear Regression Model"
   ]
  },
  {
   "cell_type": "code",
   "execution_count": null,
   "id": "5bb5a00b",
   "metadata": {},
   "outputs": [],
   "source": [
    "model = LinearRegression()\n",
    "model.fit(X_train, y_train)\n",
    "predictions = model.predict(X_test)\n",
    "mse = mean_squared_error(y_test, predictions)\n",
    "print(\"Mean Squared Error:\", mse)"
   ]
  },
  {
   "cell_type": "markdown",
   "id": "d21ca4a8",
   "metadata": {},
   "source": [
    "## Step 6: Save the Trained Model"
   ]
  },
  {
   "cell_type": "code",
   "execution_count": null,
   "id": "72a03a13",
   "metadata": {},
   "outputs": [],
   "source": [
    "joblib.dump(model, 'accident_severity_model.pkl')\n",
    "from google.colab import files\n",
    "files.download('accident_severity_model.pkl')"
   ]
  },
  {
   "cell_type": "markdown",
   "id": "86dce49e",
   "metadata": {},
   "source": [
    "## Step 7: Predict Using Hypothetical Data"
   ]
  },
  {
   "cell_type": "code",
   "execution_count": null,
   "id": "f74b74b4",
   "metadata": {},
   "outputs": [],
   "source": [
    "sample_input = pd.DataFrame([{\n",
    "    'Speed_limit': 80,\n",
    "    'Vehicles_involved': 3,\n",
    "    'Weather_Rainy': 1,\n",
    "    'Surface_Wet': 1,\n",
    "    'Light_Night': 1\n",
    "}])\n",
    "for col in X.columns:\n",
    "    if col not in sample_input.columns:\n",
    "        sample_input[col] = 0\n",
    "sample_input = sample_input[X.columns]\n",
    "predicted_severity = model.predict(sample_input)\n",
    "print(\"Predicted Accident Severity:\", predicted_severity[0])"
   ]
  },
  {
   "cell_type": "markdown",
   "id": "2c4022d5",
   "metadata": {},
   "source": [
    "## Step 8: Visualize the Correlation Matrix"
   ]
  },
  {
   "cell_type": "code",
   "execution_count": null,
   "id": "31832281",
   "metadata": {},
   "outputs": [],
   "source": [
    "plt.figure(figsize=(10, 6))\n",
    "sns.heatmap(df_encoded.corr(), annot=True, cmap='coolwarm')\n",
    "plt.title(\"Correlation Heatmap\")\n",
    "plt.show()"
   ]
  },
  {
   "cell_type": "markdown",
   "id": "ff2dd66c",
   "metadata": {},
   "source": [
    "## Conclusion\n",
    "This model helps identify factors that influence road accident severity. Such insights can be useful for planning and reducing risks in underdeveloped countries by improving infrastructure and public awareness."
   ]
  }
 ],
 "metadata": {},
 "nbformat": 4,
 "nbformat_minor": 5
}